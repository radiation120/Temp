{
 "cells": [
  {
   "cell_type": "markdown",
   "metadata": {},
   "source": [
    "Name: In Class Sheet\n",
    "Date: Feb 22 '24\n",
    "Topic: Lists \n",
    "Due on: Feb 28 '24\n",
    "\n",
    "Ideally, the assignment should be turned in after the class on Thursday Lab. But, in case you need time, you can submit it by the due date.\n",
    "No extensions in deadlines will be entertained."
   ]
  },
  {
   "cell_type": "markdown",
   "metadata": {},
   "source": [
    "Given a non-empty string and an int n, return a new string where the char at index n has been removed. The value of n will be a valid index of a char in the original string (i.e. n will be in the range 0..len(str)-1 inclusive).\n",
    "\u000bmissing_char('kitten', 1) → 'ktten'\u000bmissing_char('kitten', 0) → 'itten'\u000bmissing_char('kitten', 4) → 'kittn'\n"
   ]
  },
  {
   "cell_type": "code",
   "execution_count": 52,
   "metadata": {},
   "outputs": [],
   "source": [
    "\n",
    "### Don't understand this one\n"
   ]
  },
  {
   "cell_type": "markdown",
   "metadata": {},
   "source": [
    "Insert a name = 'joe' to list at index 0.\n"
   ]
  },
  {
   "cell_type": "code",
   "execution_count": 53,
   "metadata": {},
   "outputs": [
    {
     "name": "stdout",
     "output_type": "stream",
     "text": [
      "['joe', 'bob', 'brad', 'sarah']\n"
     ]
    }
   ],
   "source": [
    "names = ['bob','brad','sarah']\n",
    "names.insert(0,'joe')\n",
    "print(names)\n"
   ]
  },
  {
   "cell_type": "markdown",
   "metadata": {},
   "source": [
    "Q Rainfall\n",
    "Rainfall Statistics\n",
    "Design a program that lets the user enter the total rainfall for each of 12 months into a\n",
    "list. The program should calculate and display the total rainfall for the year, the average\n",
    "monthly rainfall, the months with the highest and lowest amounts.\n",
    "\n",
    "create list of months \n",
    "get input from user of the rainfall of each month, sequentuially\n",
    "print average, high and low\n"
   ]
  },
  {
   "cell_type": "code",
   "execution_count": 54,
   "metadata": {},
   "outputs": [
    {
     "ename": "ValueError",
     "evalue": "could not convert string to float: ''",
     "output_type": "error",
     "traceback": [
      "\u001b[1;31m---------------------------------------------------------------------------\u001b[0m",
      "\u001b[1;31mValueError\u001b[0m                                Traceback (most recent call last)",
      "Cell \u001b[1;32mIn[54], line 3\u001b[0m\n\u001b[0;32m      1\u001b[0m rainfall \u001b[38;5;241m=\u001b[39m []\n\u001b[0;32m      2\u001b[0m \u001b[38;5;28;01mfor\u001b[39;00m month \u001b[38;5;129;01min\u001b[39;00m \u001b[38;5;28mrange\u001b[39m(\u001b[38;5;241m1\u001b[39m, \u001b[38;5;241m13\u001b[39m):\n\u001b[1;32m----> 3\u001b[0m         rainfall\u001b[38;5;241m.\u001b[39mappend(\u001b[38;5;28;43mfloat\u001b[39;49m\u001b[43m(\u001b[49m\u001b[38;5;28;43minput\u001b[39;49m\u001b[43m(\u001b[49m\u001b[38;5;124;43m\"\u001b[39;49m\u001b[38;5;124;43mEnter the total rainfall for the month: \u001b[39;49m\u001b[38;5;124;43m\"\u001b[39;49m\u001b[43m)\u001b[49m\u001b[43m)\u001b[49m)\n\u001b[0;32m      6\u001b[0m sum_rain \u001b[38;5;241m=\u001b[39m \u001b[38;5;28msum\u001b[39m(rainfall)\n\u001b[0;32m      7\u001b[0m average_rain \u001b[38;5;241m=\u001b[39m sum_rain \u001b[38;5;241m/\u001b[39m \u001b[38;5;241m12\u001b[39m\n",
      "\u001b[1;31mValueError\u001b[0m: could not convert string to float: ''"
     ]
    }
   ],
   "source": [
    "rainfall = []\n",
    "for month in range(1, 13):\n",
    "        rainfall.append(float(input(\"Enter the total rainfall for the month: \")))\n",
    "\n",
    "\n",
    "sum_rain = sum(rainfall)\n",
    "average_rain = sum_rain / 12\n",
    "max_rain = rainfall.index(max(rainfall)) + 1\n",
    "min_rain = rainfall.index(min(rainfall)) + 1\n",
    "\n",
    "print(\"Total rainfall for the year:\", sum_rain, \"inches\")\n",
    "print(\"Average monthly rainfall:\", average_rain, \"inches\")\n",
    "print(\"Month # with the highest rainfall:\", max_rain)\n",
    "print(\"Month # with the lowest rainfall:\", min_rain)"
   ]
  },
  {
   "cell_type": "markdown",
   "metadata": {},
   "source": [
    "Remove an item from the list \n",
    "food= ['Pizza','Burgers','Chips']"
   ]
  },
  {
   "cell_type": "code",
   "execution_count": null,
   "metadata": {},
   "outputs": [
    {
     "name": "stdout",
     "output_type": "stream",
     "text": [
      "['Burgers', 'Chips']\n"
     ]
    }
   ],
   "source": [
    "food = ['Pizza','Burgers','Chips']\n",
    "food.remove('Pizza')\n",
    "print(food)\n"
   ]
  },
  {
   "cell_type": "markdown",
   "metadata": {},
   "source": [
    " Number Analysis Program\n",
    "Design a program that asks the user to enter a series of 20 numbers. The program should\n",
    "store the numbers in a list then display the following data:\n",
    "• The lowest number in the list\n",
    "• The highest number in the list\n",
    "• The total of the numbers in the list\n",
    "• The average of the numbers in the list"
   ]
  },
  {
   "cell_type": "code",
   "execution_count": 57,
   "metadata": {},
   "outputs": [
    {
     "name": "stdout",
     "output_type": "stream",
     "text": [
      "The lowest number is:  9\n",
      "The highest number is:  3454\n",
      "The sum of the numbers is:  5623\n",
      "The average of the numbers is:  281.15\n"
     ]
    }
   ],
   "source": [
    "series_of_numbers = []\n",
    "for numbers in range(1, 21):\n",
    "    series_of_numbers.append(int(input(\"Enter a number\")))\n",
    "\n",
    "lowest_num = min(series_of_numbers)\n",
    "highest_num = max(series_of_numbers)\n",
    "total = sum(series_of_numbers)\n",
    "average = total / 20\n",
    "\n",
    "print('The lowest number is: ', lowest_num)\n",
    "print('The highest number is: ', highest_num)\n",
    "print('The sum of the numbers is: ', total)\n",
    "print('The average of the numbers is: ', average)"
   ]
  },
  {
   "cell_type": "markdown",
   "metadata": {},
   "source": [
    "10. World Series Champions\n",
    "If you have downloaded the source code you will find a file named WorldSeriesWinners.\n",
    "txt in the Chapter 07 folder. This file contains a chronological list of the World Series winning\n",
    "teams from 1903 through 2009. (The first line in the file is the name of the team that\n",
    "won in 1903, and the last line is the name of the team that won in 2009. Note the World\n",
    "Series was not played in 1904 or 1994.)\n",
    "Write a program that lets the user enter the name of a team, then displays the number of\n",
    "times that team has won the World Series in the time period from 1903 through 2009."
   ]
  },
  {
   "cell_type": "code",
   "execution_count": 58,
   "metadata": {},
   "outputs": [],
   "source": [
    "# world series champions\n"
   ]
  }
 ],
 "metadata": {
  "kernelspec": {
   "display_name": "Python 3",
   "language": "python",
   "name": "python3"
  },
  "language_info": {
   "codemirror_mode": {
    "name": "ipython",
    "version": 3
   },
   "file_extension": ".py",
   "mimetype": "text/x-python",
   "name": "python",
   "nbconvert_exporter": "python",
   "pygments_lexer": "ipython3",
   "version": "3.12.1"
  }
 },
 "nbformat": 4,
 "nbformat_minor": 2
}
